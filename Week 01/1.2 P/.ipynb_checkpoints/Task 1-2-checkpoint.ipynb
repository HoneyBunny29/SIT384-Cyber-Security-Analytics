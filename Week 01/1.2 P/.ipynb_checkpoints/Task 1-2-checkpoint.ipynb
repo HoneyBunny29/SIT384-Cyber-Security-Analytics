{
 "cells": [
  {
   "cell_type": "code",
   "execution_count": 1,
   "id": "469b9ded",
   "metadata": {},
   "outputs": [
    {
     "name": "stdout",
     "output_type": "stream",
     "text": [
      "Please input a positive integer: -1\n",
      "Integer should be greater than 0\n",
      "Please input a positive integer: in\n",
      "Sorry, invaild input. Please enter an integer\n",
      "Please input a positive integer: 13\n",
      "*************\n",
      "*************\n",
      "*************\n",
      "*************\n",
      "*************\n",
      "*************\n",
      "*************\n",
      "*************\n",
      "*************\n",
      "*************\n",
      "*************\n",
      "*************\n",
      "*************\n"
     ]
    }
   ],
   "source": [
    "while True:\n",
    "    try:\n",
    "        # Get an integer from the user\n",
    "        n = int(input(\"Please input a positive integer: \"))\n",
    "        \n",
    "        # Check if the input is a positive integer\n",
    "        if n <= 0:\n",
    "            print (\"Integer should be greater than 0\")\n",
    "        else:\n",
    "            break\n",
    "    except ValueError:\n",
    "        print(\"Sorry, invaild input. Please enter an integer\")\n",
    "        \n",
    "for i in range(n):\n",
    "    print(\"*\" * n)\n"
   ]
  },
  {
   "cell_type": "code",
   "execution_count": null,
   "id": "1b7668a0",
   "metadata": {},
   "outputs": [],
   "source": []
  }
 ],
 "metadata": {
  "kernelspec": {
   "display_name": "Python 3 (ipykernel)",
   "language": "python",
   "name": "python3"
  },
  "language_info": {
   "codemirror_mode": {
    "name": "ipython",
    "version": 3
   },
   "file_extension": ".py",
   "mimetype": "text/x-python",
   "name": "python",
   "nbconvert_exporter": "python",
   "pygments_lexer": "ipython3",
   "version": "3.11.5"
  }
 },
 "nbformat": 4,
 "nbformat_minor": 5
}
