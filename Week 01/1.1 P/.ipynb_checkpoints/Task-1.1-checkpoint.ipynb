{
 "cells": [
  {
   "cell_type": "code",
   "execution_count": 3,
   "id": "8ec74003",
   "metadata": {},
   "outputs": [
    {
     "name": "stdout",
     "output_type": "stream",
     "text": [
      "please input a phrase: I'm studying at cicra campus. \n",
      "I'm\n",
      "studying\n",
      "at\n",
      "cicra\n",
      "campus.\n"
     ]
    }
   ],
   "source": [
    "# Ask the user to type a phrase.\n",
    "phrase = input(\"please input a phrase: \")\n",
    "\n",
    "# split the one phrase into words\n",
    "words = phrase.split()\n",
    "\n",
    "#print new line for each word \n",
    "for word in words:\n",
    "    print(word)\n",
    "\n"
   ]
  },
  {
   "cell_type": "code",
   "execution_count": null,
   "id": "4d5634c6",
   "metadata": {},
   "outputs": [],
   "source": []
  }
 ],
 "metadata": {
  "kernelspec": {
   "display_name": "Python 3 (ipykernel)",
   "language": "python",
   "name": "python3"
  },
  "language_info": {
   "codemirror_mode": {
    "name": "ipython",
    "version": 3
   },
   "file_extension": ".py",
   "mimetype": "text/x-python",
   "name": "python",
   "nbconvert_exporter": "python",
   "pygments_lexer": "ipython3",
   "version": "3.11.5"
  }
 },
 "nbformat": 4,
 "nbformat_minor": 5
}
