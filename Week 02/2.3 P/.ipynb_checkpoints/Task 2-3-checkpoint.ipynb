{
 "cells": [
  {
   "cell_type": "code",
   "execution_count": 3,
   "id": "4e32355a",
   "metadata": {},
   "outputs": [
    {
     "name": "stdout",
     "output_type": "stream",
     "text": [
      "Please input your email address: keni@\n",
      "Not a valid email. Please try again.\n",
      "Please input your email address: keni.keni@corera.com\n",
      "Email: keni.keni@corera.com\n",
      "Username: keni.keni\n",
      "Host: corera.com\n"
     ]
    }
   ],
   "source": [
    "import re\n",
    "\n",
    "def validate_email(email):\n",
    "    # Regular expression pattern for a valid email address\n",
    "    pattern = r'^[\\w\\.-]+@[\\w\\.-]+\\.\\w+$'\n",
    "    \n",
    "    if re.match(pattern, email):\n",
    "        return True\n",
    "    else:\n",
    "        return False\n",
    "\n",
    "def extract_email_parts(email):\n",
    "    username, host = email.split('@')\n",
    "    return username, host\n",
    "\n",
    "while True:\n",
    "    # Get email input from the user\n",
    "    email = input(\"Please input your email address: \")\n",
    "    \n",
    "    # Validate the email\n",
    "    if validate_email(email):\n",
    "        username, host = extract_email_parts(email)\n",
    "        print(f\"Email: {email}\")\n",
    "        print(f\"Username: {username}\")\n",
    "        print(f\"Host: {host}\")\n",
    "        break\n",
    "    else:\n",
    "        print(\"Not a valid email. Please try again.\")"
   ]
  },
  {
   "cell_type": "code",
   "execution_count": null,
   "id": "de536ed6",
   "metadata": {},
   "outputs": [],
   "source": []
  }
 ],
 "metadata": {
  "kernelspec": {
   "display_name": "Python 3 (ipykernel)",
   "language": "python",
   "name": "python3"
  },
  "language_info": {
   "codemirror_mode": {
    "name": "ipython",
    "version": 3
   },
   "file_extension": ".py",
   "mimetype": "text/x-python",
   "name": "python",
   "nbconvert_exporter": "python",
   "pygments_lexer": "ipython3",
   "version": "3.11.5"
  }
 },
 "nbformat": 4,
 "nbformat_minor": 5
}
