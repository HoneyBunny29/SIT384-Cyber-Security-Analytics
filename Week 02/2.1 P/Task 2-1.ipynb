{
 "cells": [
  {
   "cell_type": "code",
   "execution_count": 4,
   "id": "372e57e2",
   "metadata": {},
   "outputs": [
    {
     "name": "stdout",
     "output_type": "stream",
     "text": [
      "Please input a nonnegative integer: -6\n",
      "Please enter a nonnegative integer\n",
      "Please input a nonnegative integer: 5\n",
      "Factorial of 5: 120\n"
     ]
    }
   ],
   "source": [
    "def factorial(n):\n",
    "    result = 1\n",
    "    \n",
    "    # Calculate factorial\n",
    "    for i in range(1, n + 1):\n",
    "        result *= i\n",
    "    \n",
    "    return result\n",
    "\n",
    "while True:\n",
    "    try:\n",
    "        # Get a nonnegative integer from the user\n",
    "        num = int(input(\"Please input a nonnegative integer: \"))\n",
    "        \n",
    "        # Check if the number is nonnegative\n",
    "        if num < 0:\n",
    "            print(\"Please enter a nonnegative integer\")\n",
    "        else:\n",
    "            break\n",
    "    except ValueError:\n",
    "        print(\"Please enter a valid integer\")\n",
    "\n",
    "# Call the factorial function and display the result\n",
    "print(f\"Factorial of {num}: {factorial(num)}\")"
   ]
  },
  {
   "cell_type": "code",
   "execution_count": null,
   "id": "1a8d76a5",
   "metadata": {},
   "outputs": [],
   "source": []
  },
  {
   "cell_type": "code",
   "execution_count": null,
   "id": "0880ffcf",
   "metadata": {},
   "outputs": [],
   "source": []
  }
 ],
 "metadata": {
  "kernelspec": {
   "display_name": "Python 3 (ipykernel)",
   "language": "python",
   "name": "python3"
  },
  "language_info": {
   "codemirror_mode": {
    "name": "ipython",
    "version": 3
   },
   "file_extension": ".py",
   "mimetype": "text/x-python",
   "name": "python",
   "nbconvert_exporter": "python",
   "pygments_lexer": "ipython3",
   "version": "3.11.5"
  }
 },
 "nbformat": 4,
 "nbformat_minor": 5
}
