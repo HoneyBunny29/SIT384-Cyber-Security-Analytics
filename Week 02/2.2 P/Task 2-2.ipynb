{
 "cells": [
  {
   "cell_type": "code",
   "execution_count": 3,
   "id": "d5da620a",
   "metadata": {},
   "outputs": [
    {
     "name": "stdout",
     "output_type": "stream",
     "text": [
      "Please input a nonnegative integer: -6\n",
      "Please enter a nonnegative integer\n",
      "Please input a nonnegative integer: 5\n",
      "Factorial of 5: 120\n"
     ]
    }
   ],
   "source": [
    "def recursive_factorial(n):\n",
    "    if n == 0 or n == 1:\n",
    "        return 1\n",
    "    else:\n",
    "        return n * recursive_factorial(n - 1)\n",
    "\n",
    "while True:\n",
    "    try:\n",
    "        # Get a nonnegative integer from the user\n",
    "        num = int(input(\"Please input a nonnegative integer: \"))\n",
    "        \n",
    "        # Check if the number is nonnegative\n",
    "        if num < 0:\n",
    "            print(\"Please enter a nonnegative integer\")\n",
    "        else:\n",
    "            break\n",
    "    except ValueError:\n",
    "        print(\"Please enter a valid integer\")\n",
    "\n",
    "# Call the recursive factorial function and display the result\n",
    "print(f\"Factorial of {num}: {recursive_factorial(num)}\")"
   ]
  },
  {
   "cell_type": "code",
   "execution_count": null,
   "id": "4d5aec5b",
   "metadata": {},
   "outputs": [],
   "source": []
  }
 ],
 "metadata": {
  "kernelspec": {
   "display_name": "Python 3 (ipykernel)",
   "language": "python",
   "name": "python3"
  },
  "language_info": {
   "codemirror_mode": {
    "name": "ipython",
    "version": 3
   },
   "file_extension": ".py",
   "mimetype": "text/x-python",
   "name": "python",
   "nbconvert_exporter": "python",
   "pygments_lexer": "ipython3",
   "version": "3.11.5"
  }
 },
 "nbformat": 4,
 "nbformat_minor": 5
}
