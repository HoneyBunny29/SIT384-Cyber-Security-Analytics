{
 "cells": [
  {
   "cell_type": "code",
   "execution_count": 9,
   "id": "490602a6",
   "metadata": {},
   "outputs": [
    {
     "ename": "SyntaxError",
     "evalue": "(unicode error) 'unicodeescape' codec can't decode bytes in position 2-3: truncated \\UXXXXXXXX escape (3415739906.py, line 33)",
     "output_type": "error",
     "traceback": [
      "\u001b[1;36m  Cell \u001b[1;32mIn[9], line 33\u001b[1;36m\u001b[0m\n\u001b[1;33m    df.to_csv(\"C:\\Users\\corer\\OneDrive\\Desktop\\2nd year\\C.S analysitic\\Week 03\\3.2C\\result_updated.csv\", index=False)\u001b[0m\n\u001b[1;37m                                                                                                       ^\u001b[0m\n\u001b[1;31mSyntaxError\u001b[0m\u001b[1;31m:\u001b[0m (unicode error) 'unicodeescape' codec can't decode bytes in position 2-3: truncated \\UXXXXXXXX escape\n"
     ]
    }
   ],
   "source": [
    "import pandas as pd  # Importing the pandas library for data manipulation\n",
    "\n",
    "# Read the CSV file\n",
    "df = pd.read_csv(\"C:/Users/corer/OneDrive/Desktop/2nd year/C.S analysitic/Week 03/3.2C/result_withoutTotal.csv\")\n",
    "\n",
    "# Calculate the Total score using the given formula\n",
    "df['Total'] = 0.05 * (df['Ass1'] + df['Ass3']) + 0.15 * (df['Ass2'] + df['Ass4']) + 0.5 * df['Exam']\n",
    "\n",
    "# Calculate the Final score by rounding the Total score to the nearest integer\n",
    "df['Final'] = df['Total'].round()\n",
    "\n",
    "# Apply the hurdle rule\n",
    "# Students must have a Total >= 50 and Exam >= 48 to pass the unit\n",
    "# If a student fails the hurdle (Exam < 48), the max Final is 44\n",
    "df.loc[df['Exam'] < 48, 'Final'] = df.loc[df['Exam'] < 48, 'Final'].apply(lambda x: min(x, 44))\n",
    "\n",
    "# Assign grades based on the Final score\n",
    "def assign_grade(final_score):\n",
    "    if final_score <= 49.45:\n",
    "        return 'N'\n",
    "    elif final_score <= 59.45:\n",
    "        return 'P'\n",
    "    elif final_score <= 69.45:\n",
    "        return 'C'\n",
    "    elif final_score <= 79.45:\n",
    "        return 'D'\n",
    "    else:\n",
    "        return 'HD'\n",
    "\n",
    "df['Grade'] = df['Final'].apply(assign_grade)\n",
    "\n",
    "# Save the result data with the new columns to a new file\n",
    "df.to_csv(\"C:/Users/corer/OneDrive/Desktop/2nd year/C.S analysitic/Week 03/3.2C/result_updated.csv\", index=False)\n",
    "\n",
    "# Save the records of students with exam score < 48 to a new file\n",
    "failed_hurdle = df[df['Exam'] < 48]\n",
    "failed_hurdle.to_csv(\"C:/Users/corer/OneDrive/Desktop/2nd year/C.S analysitic/Week 03/3.2C/failedhurdle.csv\", index=False)\n",
    "\n",
    "# Display the updated result data\n",
    "print(\"Updated result data with Total, Final, and Grade columns:\")\n",
    "print(df.to_string(index=False))  # Displaying without the index for a cleaner look\n",
    "\n",
    "# Display the students with exam score < 48\n",
    "print(\"\\nStudents who failed the hurdle (Exam < 48):\")\n",
    "print(failed_hurdle.to_string(index=False))  # Displaying without the index for a cleaner look\n",
    "\n",
    "# Display the students with exam score > 100\n",
    "print(\"\\nStudents with exam score > 100:\")\n",
    "print(df[df['Exam'] > 100].to_string(index=False))  # Displaying without the index for a cleaner look"
   ]
  },
  {
   "cell_type": "code",
   "execution_count": null,
   "id": "793a20c3",
   "metadata": {},
   "outputs": [],
   "source": []
  },
  {
   "cell_type": "code",
   "execution_count": null,
   "id": "969c2044",
   "metadata": {},
   "outputs": [],
   "source": []
  },
  {
   "cell_type": "code",
   "execution_count": null,
   "id": "68cbec17",
   "metadata": {},
   "outputs": [],
   "source": []
  }
 ],
 "metadata": {
  "kernelspec": {
   "display_name": "Python 3 (ipykernel)",
   "language": "python",
   "name": "python3"
  },
  "language_info": {
   "codemirror_mode": {
    "name": "ipython",
    "version": 3
   },
   "file_extension": ".py",
   "mimetype": "text/x-python",
   "name": "python",
   "nbconvert_exporter": "python",
   "pygments_lexer": "ipython3",
   "version": "3.11.5"
  }
 },
 "nbformat": 4,
 "nbformat_minor": 5
}
